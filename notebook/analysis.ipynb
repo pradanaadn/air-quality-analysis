{
 "cells": [
  {
   "cell_type": "markdown",
   "id": "036fed78-eee7-47c2-a532-e43a11ce58b8",
   "metadata": {},
   "source": [
    "# Air Quality Data Analysis\n",
    "## Pertanyaan Bisnis\n",
    " - Bagaimana hubungan antara musim dengan kualitas udara di berbagai *station* pada tahun 2013-2017?\n",
    " - Kapan kualitas udara berada dalam kondisi terburuk di masing-masing *station* selama periode 2013-2017?\n",
    " - Bagaimana pengaruh arah angin terhadap kualitas udara di masing-masing *station* selama periode 2013-2017?\n",
    " - Bagaimana perbandingan kualitas udara pada masing-masing *station* setiap hari, minggu, bulan dan tahun selama periode 2013-2017?\n",
    " - Bagaimana pengaruh hujan terhadap kualias udara di masing-masing *station* selama periode 2013-2017?\n",
    " - Bagaimana trend kualitas udara di masing-masing *station* selama periode 2013-2017? "
   ]
  }
 ],
 "metadata": {
  "kernelspec": {
   "display_name": "Python 3 (ipykernel)",
   "language": "python",
   "name": "python3"
  },
  "language_info": {
   "codemirror_mode": {
    "name": "ipython",
    "version": 3
   },
   "file_extension": ".py",
   "mimetype": "text/x-python",
   "name": "python",
   "nbconvert_exporter": "python",
   "pygments_lexer": "ipython3",
   "version": "3.10.13"
  }
 },
 "nbformat": 4,
 "nbformat_minor": 5
}
